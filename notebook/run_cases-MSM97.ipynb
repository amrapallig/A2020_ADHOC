{
 "cells": [
  {
   "cell_type": "markdown",
   "metadata": {},
   "source": [
    "# Test cases\n",
    "\n",
    "This notebook set up and run the test cases in [McWilliams et al., 1997](https://doi.org/10.1017/S0022112096004375) using KPPLT-LF17 ([Li & Fox-Kemper, 2017](https://doi.org/10.1175/JPO-D-17-0085.1)) and SMCLT-H15 ([Harcourt, 2015](https://doi.org/10.1175/JPO-D-14-0046.1)).\n"
   ]
  },
  {
   "cell_type": "code",
   "execution_count": 1,
   "metadata": {},
   "outputs": [],
   "source": [
    "import sys\n",
    "import copy\n",
    "sys.path.append(\"../gotmtool\")\n",
    "from gotmtool import *"
   ]
  },
  {
   "cell_type": "markdown",
   "metadata": {},
   "source": [
    "## Create a model\n",
    "Create a model with environment file `../gotmtool/.gotm_env.yaml`, which is created by `gotm_env_init.py`. "
   ]
  },
  {
   "cell_type": "code",
   "execution_count": 2,
   "metadata": {},
   "outputs": [],
   "source": [
    "m = Model(name='ADHOC', environ='../gotmtool/.gotm_env.yaml')"
   ]
  },
  {
   "cell_type": "markdown",
   "metadata": {},
   "source": [
    "Take a look at what are defined in the environment file."
   ]
  },
  {
   "cell_type": "code",
   "execution_count": 3,
   "metadata": {},
   "outputs": [
    {
     "name": "stdout",
     "output_type": "stream",
     "text": [
      "   gotmdir_code: /data1/scratch/qingli/project/adhoc/A2020_ADHOC/gotm/code\n",
      "   gotmdir_data: /data1/scratch/qingli/project/adhoc/A2020_ADHOC/data\n",
      "  gotmdir_build: /data1/scratch/qingli/project/adhoc/A2020_ADHOC/gotm/build\n",
      "    gotmdir_exe: /data1/scratch/qingli/project/adhoc/A2020_ADHOC/gotm/exe\n",
      "    gotmdir_run: /data1/scratch/qingli/project/adhoc/A2020_ADHOC/gotm/run\n",
      " gotmdir_figure: /data1/scratch/qingli/project/adhoc/A2020_ADHOC/gotm/figure\n",
      "   gotmdir_tool: /data1/scratch/qingli/project/adhoc/A2020_ADHOC/gotmtool\n"
     ]
    }
   ],
   "source": [
    "for key in m.environ:\n",
    "    print('{:>15s}: {}'.format(key, m.environ[key]) )"
   ]
  },
  {
   "cell_type": "markdown",
   "metadata": {},
   "source": [
    "## Build the model"
   ]
  },
  {
   "cell_type": "code",
   "execution_count": 4,
   "metadata": {},
   "outputs": [
    {
     "name": "stdout",
     "output_type": "stream",
     "text": [
      "\u001b[94mWARNING: GOTM is updated. Skipping the build step. Use 'clean=True' to rebuild\u001b[0m\n",
      "CPU times: user 11.7 ms, sys: 35.1 ms, total: 46.8 ms\n",
      "Wall time: 93.7 ms\n"
     ]
    }
   ],
   "source": [
    "%%time\n",
    "m.build()"
   ]
  },
  {
   "cell_type": "markdown",
   "metadata": {},
   "source": [
    "## Configuration\n",
    "Initialize the GOTM configuration"
   ]
  },
  {
   "cell_type": "code",
   "execution_count": 5,
   "metadata": {},
   "outputs": [
    {
     "name": "stdout",
     "output_type": "stream",
     "text": [
      "Generating default configuration at '/data1/scratch/qingli/project/adhoc/A2020_ADHOC/gotm/run/ADHOC/gotm.yaml'...\n",
      "\u001b[92mDone!\u001b[0m\n"
     ]
    },
    {
     "name": "stderr",
     "output_type": "stream",
     "text": [
      " ------------------------------------------------------------------------\n",
      " GOTM started on 2023/12/08 at 19:44:36\n",
      " ------------------------------------------------------------------------\n",
      "    initialize_gotm\n",
      " ------------------------------------------------------------------------\n",
      "        Reading configuration from: gotm.yaml\n",
      "        configuring modules ....\n",
      "    init_airsea_yaml\n",
      "        done\n",
      "    init_observations_yaml\n",
      "    init_stokes_drift_yaml\n",
      "        done\n",
      "    init_turbulence_yaml\n",
      "        done.\n",
      "    init_cvmix_yaml\n",
      "        done.\n",
      "    init_meanflow_yaml\n",
      "        done\n",
      "    init_eqstate_yaml\n",
      "        done.\n",
      " Your configuration has been written to /data1/scratch/qingli/project/adhoc/A2020_ADHOC/gotm/run/ADHOC/gotm.yaml.\n",
      "STOP 0\n"
     ]
    }
   ],
   "source": [
    "cfg = m.init_config()"
   ]
  },
  {
   "cell_type": "markdown",
   "metadata": {},
   "source": [
    "Update the configuration"
   ]
  },
  {
   "cell_type": "code",
   "execution_count": 6,
   "metadata": {},
   "outputs": [],
   "source": [
    "# setup\n",
    "title = 'ADHOC'\n",
    "depth = 90.0     # m\n",
    "tau = 0.037      # N m^{-2}\n",
    "Q0 = -5          # W m^{-2}\n",
    "rho0 = 1000      # kg m^{-3}\n",
    "alphaT = 2e-4    # degC^{-1}\n",
    "betaS = 8e-4     # psu^{-1}\n",
    "\n",
    "cfg['title'] = title\n",
    "cfg['location']['name'] = 'idealized'\n",
    "cfg['location']['longitude'] = 0.0\n",
    "cfg['location']['depth'] = depth\n",
    "cfg['time']['start'] = '2000-01-01 00:00:00'\n",
    "cfg['time']['stop']  = '2000-01-05 00:00:00'\n",
    "cfg['time']['dt']    = 60.0\n",
    "\n",
    "# output\n",
    "cfg['output'] = {}\n",
    "cfg['output']['gotm_out'] = {}\n",
    "cfg['output']['gotm_out']['use'] = True\n",
    "cfg['output']['gotm_out']['title'] = title\n",
    "cfg['output']['gotm_out']['time_unit'] = 'dt'\n",
    "cfg['output']['gotm_out']['time_step'] = 60\n",
    "cfg['output']['gotm_out']['variables'] = [{}]\n",
    "cfg['output']['gotm_out']['variables'][0]['source'] = '*'\n",
    "\n",
    "# forcing\n",
    "datadir = m.environ['gotmdir_data']\n",
    "cfg['temperature']['method'] = 'file'\n",
    "cfg['temperature']['file'] = os.path.join(datadir, 'tprof_file_MSM97.dat')\n",
    "cfg['salinity']['method'] = 'file'\n",
    "cfg['salinity']['file'] = os.path.join(datadir, 'sprof_file_MSM97.dat')\n",
    "cfg['surface']['fluxes']['heat']['method'] = 'constant'\n",
    "cfg['surface']['fluxes']['heat']['constant_value'] = Q0\n",
    "cfg['surface']['fluxes']['tx']['method'] = 'constant'\n",
    "cfg['surface']['fluxes']['tx']['constant_value'] = tau\n",
    "cfg['surface']['fluxes']['ty']['method'] = 'constant'\n",
    "cfg['surface']['fluxes']['ty']['constant_value'] = 0.0\n",
    "cfg['surface']['swr']['method'] = 'constant'\n",
    "cfg['surface']['swr']['constant_value'] = 0.0\n",
    "cfg['surface']['precip']['method'] = 'constant'\n",
    "cfg['surface']['precip']['constant_value'] = 0.0\n",
    "\n",
    "# Stokes drift\n",
    "cfg['waves']['stokes_drift']['us']['method'] = 'exponential'\n",
    "cfg['waves']['stokes_drift']['vs']['method'] = 'exponential'\n",
    "cfg['waves']['stokes_drift']['dusdz']['method'] = 'us'\n",
    "cfg['waves']['stokes_drift']['dvsdz']['method'] = 'vs'\n",
    "cfg['waves']['stokes_drift']['exponential']['us0']['method'] = 'constant'\n",
    "cfg['waves']['stokes_drift']['exponential']['vs0']['method'] = 'constant'\n",
    "cfg['waves']['stokes_drift']['exponential']['vs0']['constant_value'] = 0.0\n",
    "cfg['waves']['stokes_drift']['exponential']['ds']['method'] = 'constant'\n",
    "cfg['waves']['stokes_drift']['exponential']['ds']['constant_value'] = 4.8\n",
    "\n",
    "# EOS -- use linear\n",
    "cfg['eq_state']['form'] = 'linear_custom'\n",
    "cfg['eq_state']['linear']['T0'] = 20.0\n",
    "cfg['eq_state']['linear']['S0'] = 35.0\n",
    "cfg['eq_state']['linear']['dtr0'] = -alphaT*rho0\n",
    "cfg['eq_state']['linear']['dsr0'] = betaS*rho0\n",
    "cfg['physical_constants']['rho_0'] = rho0\n"
   ]
  },
  {
   "cell_type": "markdown",
   "metadata": {},
   "source": [
    "## Create a list of configurations"
   ]
  },
  {
   "cell_type": "code",
   "execution_count": 7,
   "metadata": {},
   "outputs": [],
   "source": [
    "# Forcing                                                                                                                                                               \n",
    "cases = {\n",
    "    'MSM97-LT':    {'lat': 45.0, 'us0':  0.068},\n",
    "    'MSM97-ST':    {'lat': 45.0, 'us0':  0.0},\n",
    "    'MSM97-LTf0':  {'lat': 0.0,  'us0':  0.068},\n",
    "    'MSM97-STf0':  {'lat': 0.0,  'us0':  0.0},\n",
    "}\n",
    "\n",
    "# Resolution\n",
    "dz = {'1m': 1.0, '10m': 10.0}\n",
    "\n",
    "# Turbulence methods\n",
    "turbmethods = [\n",
    "    'SMCLT-H15',\n",
    "    'KPP-CVMix',\n",
    "    'KPPLT-LF17',\n",
    "    ]"
   ]
  },
  {
   "cell_type": "code",
   "execution_count": 8,
   "metadata": {},
   "outputs": [
    {
     "name": "stdout",
     "output_type": "stream",
     "text": [
      "MSM97-LT\n",
      "MSM97-ST\n",
      "MSM97-LTf0\n",
      "MSM97-STf0\n"
     ]
    }
   ],
   "source": [
    "for casename in cases:\n",
    "    print(casename)"
   ]
  },
  {
   "cell_type": "code",
   "execution_count": 9,
   "metadata": {},
   "outputs": [
    {
     "name": "stdout",
     "output_type": "stream",
     "text": [
      "dz = 1m\n",
      " - MSM97-LT\n",
      " - MSM97-ST\n",
      " - MSM97-LTf0\n",
      " - MSM97-STf0\n",
      "dz = 10m\n",
      " - MSM97-LT\n",
      " - MSM97-ST\n",
      " - MSM97-LTf0\n",
      " - MSM97-STf0\n"
     ]
    }
   ],
   "source": [
    "cfgs = []\n",
    "labels = []\n",
    "\n",
    "for res in dz:\n",
    "    print('dz = {:s}'.format(res))\n",
    "    nlev = int(depth/dz[res])\n",
    "    cfg['grid']['nlev']  = nlev\n",
    "    cfg['output']['gotm_out']['k1_stop'] = nlev+1\n",
    "    cfg['output']['gotm_out']['k_stop'] = nlev\n",
    "    for casename in cases:\n",
    "        print(' - {:s}'.format(casename))\n",
    "        cfg['location']['latitude'] = cases[casename]['lat']\n",
    "        cfg['waves']['stokes_drift']['exponential']['us0']['constant_value'] = cases[casename]['us0']\n",
    "        for turbmethod in turbmethods: \n",
    "            run_label = '{:s}_{:s}'.format(turbmethod, res)\n",
    "            labels.append(os.path.join(casename, run_label))\n",
    "            run_dir = os.path.join(m.environ['gotmdir_run'], m.name, casename, run_label)\n",
    "            os.makedirs(run_dir, exist_ok=True)\n",
    "            if turbmethod == 'SMCLT-H15':\n",
    "                cfg['turbulence']['turb_method'] = 'second_order'\n",
    "                cfg['turbulence']['tke_method'] = 'mellor_yamada'\n",
    "                cfg['turbulence']['len_scale_method'] = 'mellor_yamada'\n",
    "                cfg['turbulence']['scnd']['method'] =  'quasi_eq_h15'\n",
    "                cfg['turbulence']['scnd']['scnd_coeff'] =  'kantha_clayson'\n",
    "                cfg['turbulence']['turb_param']['length_lim'] = 'false'\n",
    "                cfg['turbulence']['turb_param']['compute_c3'] = 'false'\n",
    "                cfg['turbulence']['my']['e3'] = 5.0\n",
    "                cfg['turbulence']['my']['e6'] = 6.0\n",
    "            elif turbmethod == 'KPP-CVMix':\n",
    "                cfg['turbulence']['turb_method'] = 'cvmix'\n",
    "                cfg['cvmix']['surface_layer']['kpp']['langmuir_method'] = 'none'\n",
    "            elif turbmethod == 'KPPLT-LF17':\n",
    "                cfg['turbulence']['turb_method'] = 'cvmix'\n",
    "                cfg['cvmix']['surface_layer']['kpp']['langmuir_method'] = 'lf17'\n",
    "            else:\n",
    "                raise ValueError('Turbulence closure method \\'{}\\' not defined.'.format(turbmethod))\n",
    "            cfgs.append(copy.deepcopy(cfg))"
   ]
  },
  {
   "cell_type": "markdown",
   "metadata": {},
   "source": [
    "## Run the model"
   ]
  },
  {
   "cell_type": "code",
   "execution_count": 10,
   "metadata": {},
   "outputs": [
    {
     "name": "stdout",
     "output_type": "stream",
     "text": [
      "CPU times: user 57.6 ms, sys: 37.7 ms, total: 95.2 ms\n",
      "Wall time: 1.66 s\n"
     ]
    }
   ],
   "source": [
    "%%time\n",
    "sims = m.run_batch(configs=cfgs, labels=labels, nproc=4)"
   ]
  }
 ],
 "metadata": {
  "kernelspec": {
   "display_name": "Python 3",
   "language": "python",
   "name": "python3"
  },
  "language_info": {
   "codemirror_mode": {
    "name": "ipython",
    "version": 3
   },
   "file_extension": ".py",
   "mimetype": "text/x-python",
   "name": "python",
   "nbconvert_exporter": "python",
   "pygments_lexer": "ipython3",
   "version": "3.9.15"
  }
 },
 "nbformat": 4,
 "nbformat_minor": 4
}
