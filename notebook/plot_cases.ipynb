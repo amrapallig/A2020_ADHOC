{
 "cells": [
  {
   "cell_type": "code",
   "execution_count": null,
   "id": "4438e681-fe84-43a2-ab5b-50a7bcc0a312",
   "metadata": {},
   "outputs": [],
   "source": [
    "import sys\n",
    "import matplotlib.pyplot as plt\n",
    "sys.path.append(\"../gotmtool\")\n",
    "from gotmtool import *"
   ]
  },
  {
   "cell_type": "code",
   "execution_count": null,
   "id": "65ab71a1-6a34-4687-99ba-70bc6a6c4586",
   "metadata": {},
   "outputs": [],
   "source": [
    "m = Model(name='ADHOC', environ='../gotmtool/.gotm_env.yaml')"
   ]
  },
  {
   "cell_type": "code",
   "execution_count": null,
   "id": "947152a3-da25-4186-8f64-f1703cf29386",
   "metadata": {},
   "outputs": [],
   "source": [
    "for key in m.environ:\n",
    "    print('{:>15s}: {}'.format(key, m.environ[key]) )"
   ]
  },
  {
   "cell_type": "code",
   "execution_count": null,
   "id": "07bfa8ac-79f2-4c3f-aad4-135df3a3f722",
   "metadata": {},
   "outputs": [],
   "source": [
    "cases = [\n",
    "    'C1',\n",
    "    'C2',\n",
    "    'C4',\n",
    "    'C16',\n",
    "    'E1',\n",
    "    'E4',\n",
    "    'S1',\n",
    "    'S10',\n",
    "    'S20',\n",
    "    'T1S0',\n",
    "    'T1S1',\n",
    "    'T1S3',\n",
    "    'T1S15',\n",
    "    ]\n",
    "\n",
    "dz = [\n",
    "    '1m',\n",
    "    '10m',\n",
    "    ]\n",
    "\n",
    "turbmethods = [\n",
    "    'GLS-C01A',\n",
    "    'KPP-CVMix',\n",
    "    ]"
   ]
  },
  {
   "cell_type": "code",
   "execution_count": null,
   "id": "73cd096a-a531-46f6-88f2-36b1939da237",
   "metadata": {},
   "outputs": [],
   "source": [
    "sims = {}\n",
    "for casename in cases:\n",
    "    tmp = {}\n",
    "    for turbmethod in turbmethods:\n",
    "        for res in dz:\n",
    "            run_label = '{:s}_{:s}'.format(turbmethod, res)\n",
    "            run_dir = os.path.join(m.environ['gotmdir_run'], m.name, casename, run_label)\n",
    "            sim = Simulation(path=run_dir)\n",
    "            tmp[run_label] = sim\n",
    "    sims[casename] = tmp"
   ]
  },
  {
   "cell_type": "code",
   "execution_count": null,
   "id": "b814e5ff-4d20-4bf1-801a-599f735dc358",
   "metadata": {},
   "outputs": [],
   "source": [
    "def plot_var(sims, varname, tag):\n",
    "    nrows = (len(sims)+1)//2\n",
    "    fig, axarr = plt.subplots(nrows,2, sharex='col', sharey='row')\n",
    "    fig.set_size_inches([10,2+nrows*2])\n",
    "    for i, sname in enumerate(sims):\n",
    "        m = i//2\n",
    "        n = i%2\n",
    "        ax = axarr[m,n]\n",
    "        ds = sims[sname].load_data().data_vars[varname].plot(ax=ax)\n",
    "        ax.set_title('{:s}_{:s}'.format(tag, sname))\n",
    "        ax.set_xlabel('')"
   ]
  },
  {
   "cell_type": "code",
   "execution_count": null,
   "id": "1080c644-1f7f-4b34-b913-d00399568783",
   "metadata": {},
   "outputs": [],
   "source": [
    "for casename in sims:\n",
    "    for varname in ['temp', 'salt']:\n",
    "        plot_var(sims[casename], varname, casename)"
   ]
  },
  {
   "cell_type": "code",
   "execution_count": null,
   "id": "63d65370-1759-4e5c-9442-6b7ac69bde8a",
   "metadata": {},
   "outputs": [],
   "source": []
  }
 ],
 "metadata": {
  "kernelspec": {
   "display_name": "Python 3",
   "language": "python",
   "name": "python3"
  },
  "language_info": {
   "codemirror_mode": {
    "name": "ipython",
    "version": 3
   },
   "file_extension": ".py",
   "mimetype": "text/x-python",
   "name": "python",
   "nbconvert_exporter": "python",
   "pygments_lexer": "ipython3",
   "version": "3.9.15"
  }
 },
 "nbformat": 4,
 "nbformat_minor": 5
}
