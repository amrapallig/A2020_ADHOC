{
 "cells": [
  {
   "cell_type": "markdown",
   "metadata": {},
   "source": [
    "# Test cases\n",
    "\n",
    "This notebook set up and run the test cases in Table 2 using KPP and $k$-$\\epsilon$.\n",
    "- GLS-C01A: the generic length scale (GLS; [Umlauf and Burchard, 2003](https://doi.org/10.1357/002224003322005087)) model in the $k$-$\\epsilon$ formulation with the weak-equilibrium stability function by [Canuto et al., 2001](https://doi.org/10.1175/1520-0485(2001)031%3C1413:OTPIOP%3E2.0.CO;2) (C01A).\n",
    "- KPP-CVMix: KPP implementation in CVMix ([Large et al., 1994](https://doi.org/10.1029/94RG01872), [Griffies et al., 2015](https://github.com/CVMix/CVMix-description/raw/master/cvmix.pdf)).\n",
    "\n",
    "![table_forcing](table_forcing.png)"
   ]
  },
  {
   "cell_type": "code",
   "execution_count": 1,
   "metadata": {},
   "outputs": [],
   "source": [
    "import sys\n",
    "import copy\n",
    "sys.path.append(\"../gotmtool\")\n",
    "from gotmtool import *"
   ]
  },
  {
   "cell_type": "markdown",
   "metadata": {},
   "source": [
    "## Create a model\n",
    "Create a model with environment file `../gotmtool/.gotm_env.yaml`, which is created by `gotm_env_init.py`. "
   ]
  },
  {
   "cell_type": "code",
   "execution_count": 2,
   "metadata": {},
   "outputs": [],
   "source": [
    "m = Model(name='ADHOC', environ='../gotmtool/.gotm_env.yaml')"
   ]
  },
  {
   "cell_type": "markdown",
   "metadata": {},
   "source": [
    "Take a look at what are defined in the environment file."
   ]
  },
  {
   "cell_type": "code",
   "execution_count": 3,
   "metadata": {},
   "outputs": [
    {
     "name": "stdout",
     "output_type": "stream",
     "text": [
      "   gotmdir_code: /Users/amrapallig/repo/GOTM_LT/test_my_github/A2020_ADHOC/gotm/code\n",
      "   gotmdir_data: /Users/amrapallig/repo/GOTM_LT/test_my_github/A2020_ADHOC/gotm/data\n",
      "  gotmdir_build: /Users/amrapallig/repo/GOTM_LT/test_my_github/A2020_ADHOC/gotm/build\n",
      "    gotmdir_exe: /Users/amrapallig/repo/GOTM_LT/test_my_github/A2020_ADHOC/gotm/exe\n",
      "    gotmdir_run: /Users/amrapallig/repo/GOTM_LT/test_my_github/A2020_ADHOC/gotm/run\n",
      " gotmdir_figure: /Users/amrapallig/repo/GOTM_LT/test_my_github/A2020_ADHOC/gotm/figure\n",
      "   gotmdir_tool: /Users/amrapallig/repo/GOTM_LT/test_my_github/A2020_ADHOC/gotmtool\n"
     ]
    }
   ],
   "source": [
    "for key in m.environ:\n",
    "    print('{:>15s}: {}'.format(key, m.environ[key]) )"
   ]
  },
  {
   "cell_type": "markdown",
   "metadata": {},
   "source": [
    "## Build the model"
   ]
  },
  {
   "cell_type": "code",
   "execution_count": 4,
   "metadata": {},
   "outputs": [
    {
     "name": "stdout",
     "output_type": "stream",
     "text": [
      "Building GOTM...\n",
      "\n",
      "cmake /Users/amrapallig/repo/GOTM_LT/test_my_github/A2020_ADHOC/gotm/code -DCMAKE_INSTALL_PREFIX:PATH=/Users/amrapallig/repo/GOTM_LT/test_my_github/A2020_ADHOC/gotm/exe -DGOTM_USE_CVMIX=true -DGOTM_USE_FABM=false -DGOTM_USE_STIM=false -DGOTM_USE_NetCDF=true -DGOTM_EXTRA_OUTPUT=false\n",
      "\n",
      "-- The Fortran compiler identification is GNU 11.3.0\n",
      "-- Checking whether Fortran compiler has -isysroot\n",
      "-- Checking whether Fortran compiler has -isysroot - yes\n",
      "-- Checking whether Fortran compiler supports OSX deployment target flag\n",
      "-- Checking whether Fortran compiler supports OSX deployment target flag - yes\n",
      "-- Detecting Fortran compiler ABI info\n",
      "-- Detecting Fortran compiler ABI info - done\n",
      "-- Check for working Fortran compiler: /Users/amrapallig/opt/miniconda3/envs/gotm/bin/x86_64-apple-darwin13.4.0-gfortran - skipped\n",
      "-- Found NetCDF: -L/Users/amrapallig/opt/miniconda3/envs/gotm/lib -lnetcdff -lnetcdf -lnetcdf  \n",
      "-- Configuring done (1.3s)\n",
      "-- Generating done (0.1s)\n",
      "-- Build files have been written to: /Users/amrapallig/repo/GOTM_LT/test_my_github/A2020_ADHOC/gotm/build\n",
      "\n",
      "\n",
      "make install\n"
     ]
    },
    {
     "name": "stderr",
     "output_type": "stream",
     "text": [
      "/Users/amrapallig/opt/miniconda3/envs/gotm/bin/x86_64-apple-darwin13.4.0-ranlib: file: libyaml.a(yaml_version.F90.o) has no symbols\n",
      "/Users/amrapallig/opt/miniconda3/envs/gotm/bin/x86_64-apple-darwin13.4.0-ranlib: file: libyaml.a(yaml_version.F90.o) has no symbols\n",
      "/Users/amrapallig/opt/miniconda3/envs/gotm/bin/x86_64-apple-darwin13.4.0-ranlib: file: libutil.a(util.F90.o) has no symbols\n",
      "/Users/amrapallig/opt/miniconda3/envs/gotm/bin/x86_64-apple-darwin13.4.0-ranlib: file: libutil.a(gotm_version.F90.o) has no symbols\n",
      "/Users/amrapallig/opt/miniconda3/envs/gotm/bin/x86_64-apple-darwin13.4.0-ranlib: file: libutil.a(compilation.F90.o) has no symbols\n",
      "/Users/amrapallig/opt/miniconda3/envs/gotm/bin/x86_64-apple-darwin13.4.0-ranlib: file: libutil.a(util.F90.o) has no symbols\n",
      "/Users/amrapallig/opt/miniconda3/envs/gotm/bin/x86_64-apple-darwin13.4.0-ranlib: file: libutil.a(gotm_version.F90.o) has no symbols\n",
      "/Users/amrapallig/opt/miniconda3/envs/gotm/bin/x86_64-apple-darwin13.4.0-ranlib: file: libutil.a(compilation.F90.o) has no symbols\n",
      "/Users/amrapallig/opt/miniconda3/envs/gotm/bin/x86_64-apple-darwin13.4.0-ranlib: file: liboutput_manager.a(flexout_version.F90.o) has no symbols\n",
      "/Users/amrapallig/opt/miniconda3/envs/gotm/bin/x86_64-apple-darwin13.4.0-ranlib: file: liboutput_manager.a(flexout_version.F90.o) has no symbols\n"
     ]
    },
    {
     "name": "stdout",
     "output_type": "stream",
     "text": [
      "\n",
      "[  1%] \u001b[34m\u001b[1mRetrieving description of last GOTM commit...\u001b[0m\n",
      "-- On branch remotes/qingli411/langmuir-h15-v6 with commit id v6.0.4-62-g8d5f3d75\n",
      "[  1%] Built target version\n",
      "[  1%] \u001b[32mBuilding Fortran object extern/flexout/extern/yaml/CMakeFiles/yaml.dir/yaml_types.F90.o\u001b[0m\n",
      "[  2%] \u001b[32mBuilding Fortran object extern/flexout/extern/yaml/CMakeFiles/yaml.dir/yaml.F90.o\u001b[0m\n",
      "[  3%] \u001b[32mBuilding Fortran object extern/flexout/extern/yaml/CMakeFiles/yaml.dir/yaml_settings.F90.o\u001b[0m\n",
      "[  4%] \u001b[32mBuilding Fortran object extern/flexout/extern/yaml/CMakeFiles/yaml.dir/yaml_version.F90.o\u001b[0m\n",
      "[  5%] \u001b[32m\u001b[1mLinking Fortran static library libyaml.a\u001b[0m\n",
      "[  5%] Built target yaml\n",
      "[  6%] \u001b[32mBuilding Fortran object util/CMakeFiles/util.dir/compilation.F90.o\u001b[0m\n",
      "[  7%] \u001b[32mBuilding Fortran object util/CMakeFiles/util.dir/eqstate.F90.o\u001b[0m\n",
      "[  8%] \u001b[32mBuilding Fortran object util/CMakeFiles/util.dir/gotm_version.F90.o\u001b[0m\n",
      "[ 10%] \u001b[32mBuilding Fortran object util/CMakeFiles/util.dir/time.F90.o\u001b[0m\n",
      "[ 11%] \u001b[32mBuilding Fortran object util/CMakeFiles/util.dir/tridiagonal.F90.o\u001b[0m\n",
      "[ 11%] \u001b[32mBuilding Fortran object util/CMakeFiles/util.dir/util.F90.o\u001b[0m\n",
      "[ 11%] \u001b[32mBuilding Fortran object util/CMakeFiles/util.dir/adv_center.F90.o\u001b[0m\n",
      "[ 12%] \u001b[32mBuilding Fortran object util/CMakeFiles/util.dir/convert_fluxes.F90.o\u001b[0m\n",
      "[ 13%] \u001b[32mBuilding Fortran object util/CMakeFiles/util.dir/diff_center.F90.o\u001b[0m\n",
      "[ 13%] \u001b[32mBuilding Fortran object util/CMakeFiles/util.dir/diff_face.F90.o\u001b[0m\n",
      "[ 14%] \u001b[32mBuilding Fortran object util/CMakeFiles/util.dir/gridinterpol.F90.o\u001b[0m\n",
      "[ 15%] \u001b[32mBuilding Fortran object util/CMakeFiles/util.dir/lagrange.F90.o\u001b[0m\n",
      "[ 15%] \u001b[32mBuilding Fortran object util/CMakeFiles/util.dir/ode_solvers.F90.o\u001b[0m\n",
      "[ 15%] \u001b[32m\u001b[1mLinking Fortran static library libutil.a\u001b[0m\n",
      "[ 15%] Built target util\n",
      "[ 16%] \u001b[32mBuilding Fortran object extern/flexout/src/CMakeFiles/field_manager.dir/field_manager.F90.o\u001b[0m\n",
      "[ 17%] \u001b[32m\u001b[1mLinking Fortran static library libfield_manager.a\u001b[0m\n",
      "[ 17%] Built target field_manager\n",
      "[ 19%] \u001b[32mBuilding Fortran object extern/flexout/src/CMakeFiles/output_manager.dir/flexout_version.F90.o\u001b[0m\n",
      "[ 20%] \u001b[32mBuilding Fortran object extern/flexout/src/CMakeFiles/output_manager.dir/output_manager_core.F90.o\u001b[0m\n",
      "[ 21%] \u001b[32mBuilding Fortran object extern/flexout/src/CMakeFiles/output_manager.dir/formats/memory_output.F90.o\u001b[0m\n",
      "[ 22%] \u001b[32mBuilding Fortran object extern/flexout/src/CMakeFiles/output_manager.dir/formats/netcdf_output.F90.o\u001b[0m\n",
      "[ 22%] \u001b[32mBuilding Fortran object extern/flexout/src/CMakeFiles/output_manager.dir/formats/text_output.F90.o\u001b[0m\n",
      "[ 22%] \u001b[32mBuilding Fortran object extern/flexout/src/CMakeFiles/output_manager.dir/operators/base.F90.o\u001b[0m\n",
      "[ 23%] \u001b[32mBuilding Fortran object extern/flexout/src/CMakeFiles/output_manager.dir/operators/interp.F90.o\u001b[0m\n",
      "[ 24%] \u001b[32mBuilding Fortran object extern/flexout/src/CMakeFiles/output_manager.dir/operators/slice.F90.o\u001b[0m\n",
      "[ 25%] \u001b[32mBuilding Fortran object extern/flexout/src/CMakeFiles/output_manager.dir/operators/time_average.F90.o\u001b[0m\n",
      "[ 26%] \u001b[32mBuilding Fortran object extern/flexout/src/CMakeFiles/output_manager.dir/operators/library.F90.o\u001b[0m\n",
      "[ 26%] \u001b[32mBuilding Fortran object extern/flexout/src/CMakeFiles/output_manager.dir/output_manager.F90.o\u001b[0m\n",
      "[ 26%] \u001b[32m\u001b[1mLinking Fortran static library liboutput_manager.a\u001b[0m\n",
      "[ 26%] Built target output_manager\n",
      "[ 28%] \u001b[32mBuilding Fortran object input/CMakeFiles/input_manager.dir/input.F90.o\u001b[0m\n",
      "[ 29%] \u001b[32mBuilding Fortran object input/CMakeFiles/input_manager.dir/input_netcdf.F90.o\u001b[0m\n",
      "[ 29%] \u001b[32m\u001b[1mLinking Fortran static library libinput_manager.a\u001b[0m\n",
      "[ 29%] Built target input_manager\n",
      "[ 29%] \u001b[32mBuilding Fortran object config/CMakeFiles/config.dir/settings.F90.o\u001b[0m\n",
      "[ 30%] \u001b[32m\u001b[1mLinking Fortran static library libconfig.a\u001b[0m\n",
      "[ 30%] Built target config\n",
      "[ 30%] \u001b[32mBuilding Fortran object stokes_drift/CMakeFiles/stokes_drift.dir/stokes_drift.F90.o\u001b[0m\n",
      "[ 31%] \u001b[32mBuilding Fortran object stokes_drift/CMakeFiles/stokes_drift.dir/stokes_drift_theory.F90.o\u001b[0m\n",
      "[ 32%] \u001b[32mBuilding Fortran object stokes_drift/CMakeFiles/stokes_drift.dir/stokes_drift_exp.F90.o\u001b[0m\n",
      "[ 33%] \u001b[32m\u001b[1mLinking Fortran static library libstokes_drift.a\u001b[0m\n",
      "[ 33%] Built target stokes_drift\n",
      "[ 34%] \u001b[32mBuilding Fortran object extern/CVMix-src/src/CMakeFiles/cvmix_objects.dir/shared/cvmix_kinds_and_types.F90.o\u001b[0m\n",
      "[ 35%] \u001b[32mBuilding Fortran object extern/CVMix-src/src/CMakeFiles/cvmix_objects.dir/shared/cvmix_utils.F90.o\u001b[0m\n",
      "[ 37%] \u001b[32mBuilding Fortran object extern/CVMix-src/src/CMakeFiles/cvmix_objects.dir/shared/cvmix_put_get.F90.o\u001b[0m\n",
      "[ 38%] \u001b[32mBuilding Fortran object extern/CVMix-src/src/CMakeFiles/cvmix_objects.dir/shared/cvmix_background.F90.o\u001b[0m\n",
      "[ 38%] \u001b[32mBuilding Fortran object extern/CVMix-src/src/CMakeFiles/cvmix_objects.dir/shared/cvmix_convection.F90.o\u001b[0m\n",
      "[ 39%] \u001b[32mBuilding Fortran object extern/CVMix-src/src/CMakeFiles/cvmix_objects.dir/shared/cvmix_ddiff.F90.o\u001b[0m\n",
      "[ 39%] \u001b[32mBuilding Fortran object extern/CVMix-src/src/CMakeFiles/cvmix_objects.dir/shared/cvmix_math.F90.o\u001b[0m\n",
      "[ 40%] \u001b[32mBuilding Fortran object extern/CVMix-src/src/CMakeFiles/cvmix_objects.dir/shared/cvmix_kpp.F90.o\u001b[0m\n",
      "[ 41%] \u001b[32mBuilding Fortran object extern/CVMix-src/src/CMakeFiles/cvmix_objects.dir/shared/cvmix_shear.F90.o\u001b[0m\n",
      "[ 41%] \u001b[32mBuilding Fortran object extern/CVMix-src/src/CMakeFiles/cvmix_objects.dir/shared/cvmix_tidal.F90.o\u001b[0m\n",
      "[ 41%] Built target cvmix_objects\n",
      "[ 41%] \u001b[32m\u001b[1mLinking Fortran static library libcvmix.a\u001b[0m\n",
      "[ 41%] Built target cvmix_static\n",
      "[ 42%] \u001b[32mBuilding Fortran object airsea/CMakeFiles/airsea.dir/airsea_variables.F90.o\u001b[0m\n",
      "[ 42%] \u001b[32mBuilding Fortran object airsea/CMakeFiles/airsea.dir/airsea_fluxes.F90.o\u001b[0m\n",
      "[ 43%] \u001b[32mBuilding Fortran object airsea/CMakeFiles/airsea.dir/humidity.F90.o\u001b[0m\n",
      "[ 43%] \u001b[32mBuilding Fortran object airsea/CMakeFiles/airsea.dir/longwave_radiation.F90.o\u001b[0m\n",
      "[ 44%] \u001b[32mBuilding Fortran object airsea/CMakeFiles/airsea.dir/fairall.F90.o\u001b[0m\n",
      "[ 46%] \u001b[32mBuilding Fortran object airsea/CMakeFiles/airsea.dir/kondo.F90.o\u001b[0m\n",
      "[ 46%] \u001b[32mBuilding Fortran object airsea/CMakeFiles/airsea.dir/solar_zenith_angle.F90.o\u001b[0m\n",
      "[ 47%] \u001b[32mBuilding Fortran object airsea/CMakeFiles/airsea.dir/albedo_water.F90.o\u001b[0m\n",
      "[ 48%] \u001b[32mBuilding Fortran object airsea/CMakeFiles/airsea.dir/shortwave_radiation.F90.o\u001b[0m\n",
      "[ 48%] \u001b[32m\u001b[1mLinking Fortran static library libairsea.a\u001b[0m\n",
      "[ 48%] Built target airsea\n",
      "[ 49%] \u001b[32mBuilding Fortran object airsea/CMakeFiles/airsea_driver.dir/airsea.F90.o\u001b[0m\n",
      "[ 50%] \u001b[32m\u001b[1mLinking Fortran static library libairsea_driver.a\u001b[0m\n",
      "[ 50%] Built target airsea_driver\n",
      "[ 50%] \u001b[32mBuilding Fortran object turbulence/CMakeFiles/turbulence.dir/turbulence.F90.o\u001b[0m\n",
      "[ 51%] \u001b[32mBuilding Fortran object turbulence/CMakeFiles/turbulence.dir/kpp.F90.o\u001b[0m\n",
      "[ 51%] \u001b[32mBuilding Fortran object turbulence/CMakeFiles/turbulence.dir/algebraiclength.F90.o\u001b[0m\n",
      "[ 52%] \u001b[32mBuilding Fortran object turbulence/CMakeFiles/turbulence.dir/alpha_mnb.F90.o\u001b[0m\n",
      "[ 53%] \u001b[32mBuilding Fortran object turbulence/CMakeFiles/turbulence.dir/cmue_a.F90.o\u001b[0m\n",
      "[ 53%] \u001b[32mBuilding Fortran object turbulence/CMakeFiles/turbulence.dir/cmue_b.F90.o\u001b[0m\n",
      "[ 55%] \u001b[32mBuilding Fortran object turbulence/CMakeFiles/turbulence.dir/cmue_c.F90.o\u001b[0m\n",
      "[ 56%] \u001b[32mBuilding Fortran object turbulence/CMakeFiles/turbulence.dir/cmue_d.F90.o\u001b[0m\n",
      "[ 56%] \u001b[32mBuilding Fortran object turbulence/CMakeFiles/turbulence.dir/cmue_d_h15.F90.o\u001b[0m\n",
      "[ 57%] \u001b[32mBuilding Fortran object turbulence/CMakeFiles/turbulence.dir/cmue_ma.F90.o\u001b[0m\n",
      "[ 58%] \u001b[32mBuilding Fortran object turbulence/CMakeFiles/turbulence.dir/cmue_rf.F90.o\u001b[0m\n",
      "[ 59%] \u001b[32mBuilding Fortran object turbulence/CMakeFiles/turbulence.dir/cmue_sg.F90.o\u001b[0m\n",
      "[ 59%] \u001b[32mBuilding Fortran object turbulence/CMakeFiles/turbulence.dir/compute_cpsi3.F90.o\u001b[0m\n",
      "[ 60%] \u001b[32mBuilding Fortran object turbulence/CMakeFiles/turbulence.dir/compute_rist.F90.o\u001b[0m\n",
      "[ 61%] \u001b[32mBuilding Fortran object turbulence/CMakeFiles/turbulence.dir/dissipationeq.F90.o\u001b[0m\n",
      "[ 61%] \u001b[32mBuilding Fortran object turbulence/CMakeFiles/turbulence.dir/epsbalgebraic.F90.o\u001b[0m\n",
      "[ 62%] \u001b[32mBuilding Fortran object turbulence/CMakeFiles/turbulence.dir/fk_craig.F90.o\u001b[0m\n",
      "[ 64%] \u001b[32mBuilding Fortran object turbulence/CMakeFiles/turbulence.dir/genericeq.F90.o\u001b[0m\n",
      "[ 64%] \u001b[32mBuilding Fortran object turbulence/CMakeFiles/turbulence.dir/gotm_lib_version.F90.o\u001b[0m\n",
      "[ 65%] \u001b[32mBuilding Fortran object turbulence/CMakeFiles/turbulence.dir/internal_wave.F90.o\u001b[0m\n",
      "[ 66%] \u001b[32mBuilding Fortran object turbulence/CMakeFiles/turbulence.dir/ispralength.F90.o\u001b[0m\n",
      "[ 66%] \u001b[32mBuilding Fortran object turbulence/CMakeFiles/turbulence.dir/kbalgebraic.F90.o\u001b[0m\n",
      "[ 67%] \u001b[32mBuilding Fortran object turbulence/CMakeFiles/turbulence.dir/kbeq.F90.o\u001b[0m\n",
      "[ 68%] \u001b[32mBuilding Fortran object turbulence/CMakeFiles/turbulence.dir/lengthscaleeq.F90.o\u001b[0m\n",
      "[ 68%] \u001b[32mBuilding Fortran object turbulence/CMakeFiles/turbulence.dir/potentialml.F90.o\u001b[0m\n",
      "[ 69%] \u001b[32mBuilding Fortran object turbulence/CMakeFiles/turbulence.dir/production.F90.o\u001b[0m\n",
      "[ 70%] \u001b[32mBuilding Fortran object turbulence/CMakeFiles/turbulence.dir/q2over2eq.F90.o\u001b[0m\n",
      "[ 70%] \u001b[32mBuilding Fortran object turbulence/CMakeFiles/turbulence.dir/r_ratio.F90.o\u001b[0m\n",
      "[ 71%] \u001b[32mBuilding Fortran object turbulence/CMakeFiles/turbulence.dir/tkealgebraic.F90.o\u001b[0m\n",
      "[ 73%] \u001b[32mBuilding Fortran object turbulence/CMakeFiles/turbulence.dir/tkeeq.F90.o\u001b[0m\n",
      "[ 74%] \u001b[32mBuilding Fortran object turbulence/CMakeFiles/turbulence.dir/variances.F90.o\u001b[0m\n",
      "[ 75%] \u001b[32m\u001b[1mLinking Fortran static library libturbulence.a\u001b[0m\n",
      "[ 75%] Built target turbulence\n",
      "[ 75%] \u001b[32mBuilding Fortran object gotm_cvmix/CMakeFiles/gotm_cvmix.dir/gotm_cvmix.F90.o\u001b[0m\n",
      "[ 76%] \u001b[32m\u001b[1mLinking Fortran static library libgotm_cvmix.a\u001b[0m\n",
      "[ 76%] Built target gotm_cvmix\n",
      "[ 76%] \u001b[32mBuilding Fortran object observations/CMakeFiles/observations.dir/observations.F90.o\u001b[0m\n",
      "[ 76%] \u001b[32mBuilding Fortran object observations/CMakeFiles/observations.dir/analytical_profile.F90.o\u001b[0m\n",
      "[ 77%] \u001b[32mBuilding Fortran object observations/CMakeFiles/observations.dir/const_NNS.F90.o\u001b[0m\n",
      "[ 78%] \u001b[32mBuilding Fortran object observations/CMakeFiles/observations.dir/const_NNT.F90.o\u001b[0m\n",
      "[ 79%] \u001b[32m\u001b[1mLinking Fortran static library libobservations.a\u001b[0m\n",
      "[ 79%] Built target observations\n",
      "[ 79%] \u001b[32mBuilding Fortran object meanflow/CMakeFiles/meanflow.dir/meanflow.F90.o\u001b[0m\n",
      "[ 80%] \u001b[32mBuilding Fortran object meanflow/CMakeFiles/meanflow.dir/buoyancy.F90.o\u001b[0m\n",
      "[ 82%] \u001b[32mBuilding Fortran object meanflow/CMakeFiles/meanflow.dir/convectiveadjustment.F90.o\u001b[0m\n",
      "[ 83%] \u001b[32mBuilding Fortran object meanflow/CMakeFiles/meanflow.dir/coriolis.F90.o\u001b[0m\n",
      "[ 83%] \u001b[32mBuilding Fortran object meanflow/CMakeFiles/meanflow.dir/extpressure.F90.o\u001b[0m\n",
      "[ 84%] \u001b[32mBuilding Fortran object meanflow/CMakeFiles/meanflow.dir/friction.F90.o\u001b[0m\n",
      "[ 85%] \u001b[32mBuilding Fortran object meanflow/CMakeFiles/meanflow.dir/intpressure.F90.o\u001b[0m\n",
      "[ 86%] \u001b[32mBuilding Fortran object meanflow/CMakeFiles/meanflow.dir/salinity.F90.o\u001b[0m\n",
      "[ 87%] \u001b[32mBuilding Fortran object meanflow/CMakeFiles/meanflow.dir/shear.F90.o\u001b[0m\n",
      "[ 87%] \u001b[32mBuilding Fortran object meanflow/CMakeFiles/meanflow.dir/stratification.F90.o\u001b[0m\n",
      "[ 88%] \u001b[32mBuilding Fortran object meanflow/CMakeFiles/meanflow.dir/temperature.F90.o\u001b[0m\n",
      "[ 89%] \u001b[32mBuilding Fortran object meanflow/CMakeFiles/meanflow.dir/uequation.F90.o\u001b[0m\n",
      "[ 89%] \u001b[32mBuilding Fortran object meanflow/CMakeFiles/meanflow.dir/updategrid.F90.o\u001b[0m\n",
      "[ 91%] \u001b[32mBuilding Fortran object meanflow/CMakeFiles/meanflow.dir/vequation.F90.o\u001b[0m\n",
      "[ 92%] \u001b[32mBuilding Fortran object meanflow/CMakeFiles/meanflow.dir/wequation.F90.o\u001b[0m\n",
      "[ 93%] \u001b[32m\u001b[1mLinking Fortran static library libmeanflow.a\u001b[0m\n",
      "[ 93%] Built target meanflow\n",
      "[ 94%] \u001b[32mBuilding Fortran object gotmlib/CMakeFiles/gotm.dir/diagnostics.F90.o\u001b[0m\n",
      "[ 95%] \u001b[32mBuilding Fortran object gotmlib/CMakeFiles/gotm.dir/register_all_variables.F90.o\u001b[0m\n",
      "[ 96%] \u001b[32mBuilding Fortran object gotmlib/CMakeFiles/gotm.dir/gotm.F90.o\u001b[0m\n",
      "[ 96%] \u001b[32mBuilding Fortran object gotmlib/CMakeFiles/gotm.dir/cmdline.F90.o\u001b[0m\n",
      "[ 96%] \u001b[32mBuilding Fortran object gotmlib/CMakeFiles/gotm.dir/deprecated_output.F90.o\u001b[0m\n",
      "[ 97%] \u001b[32mBuilding Fortran object gotmlib/CMakeFiles/gotm.dir/print_version.F90.o\u001b[0m\n",
      "[ 98%] \u001b[32m\u001b[1mLinking Fortran static library libgotm.a\u001b[0m\n",
      "[ 98%] Built target gotm\n",
      "[100%] \u001b[32mBuilding Fortran object CMakeFiles/gotm_exe.dir/src/gotm/main.F90.o\u001b[0m\n",
      "[100%] \u001b[32m\u001b[1mLinking Fortran executable gotm\u001b[0m\n",
      "[100%] Built target gotm_exe\n",
      "\u001b[36mInstall the project...\u001b[0m\n",
      "-- Install configuration: \"Release\"\n",
      "-- Installing: /Users/amrapallig/repo/GOTM_LT/test_my_github/A2020_ADHOC/gotm/exe/bin/gotm\n",
      "-- Installing: /Users/amrapallig/repo/GOTM_LT/test_my_github/A2020_ADHOC/gotm/exe/cmake/gotmConfig.cmake\n",
      "-- Installing: /Users/amrapallig/repo/GOTM_LT/test_my_github/A2020_ADHOC/gotm/exe/cmake/gotmConfig-release.cmake\n",
      "-- Installing: /Users/amrapallig/repo/GOTM_LT/test_my_github/A2020_ADHOC/gotm/exe/cmake/flexoutConfig.cmake\n",
      "-- Installing: /Users/amrapallig/repo/GOTM_LT/test_my_github/A2020_ADHOC/gotm/exe/cmake/flexoutConfig-release.cmake\n",
      "-- Installing: /Users/amrapallig/repo/GOTM_LT/test_my_github/A2020_ADHOC/gotm/exe/lib/libyaml.a\n",
      "-- Installing: /Users/amrapallig/repo/GOTM_LT/test_my_github/A2020_ADHOC/gotm/exe/cmake/yamlConfig.cmake\n",
      "-- Installing: /Users/amrapallig/repo/GOTM_LT/test_my_github/A2020_ADHOC/gotm/exe/cmake/yamlConfig-release.cmake\n",
      "-- Installing: /Users/amrapallig/repo/GOTM_LT/test_my_github/A2020_ADHOC/gotm/exe/lib/libfield_manager.a\n",
      "-- Installing: /Users/amrapallig/repo/GOTM_LT/test_my_github/A2020_ADHOC/gotm/exe/lib/liboutput_manager.a\n",
      "-- Installing: /Users/amrapallig/repo/GOTM_LT/test_my_github/A2020_ADHOC/gotm/exe/include\n",
      "-- Installing: /Users/amrapallig/repo/GOTM_LT/test_my_github/A2020_ADHOC/gotm/exe/include/output_operators_interp.mod\n",
      "-- Installing: /Users/amrapallig/repo/GOTM_LT/test_my_github/A2020_ADHOC/gotm/exe/include/output_operators_slice.mod\n",
      "-- Installing: /Users/amrapallig/repo/GOTM_LT/test_my_github/A2020_ADHOC/gotm/exe/include/netcdf_output.mod\n",
      "-- Installing: /Users/amrapallig/repo/GOTM_LT/test_my_github/A2020_ADHOC/gotm/exe/include/flexout_version.mod\n",
      "-- Installing: /Users/amrapallig/repo/GOTM_LT/test_my_github/A2020_ADHOC/gotm/exe/include/output_manager_core.mod\n",
      "-- Installing: /Users/amrapallig/repo/GOTM_LT/test_my_github/A2020_ADHOC/gotm/exe/include/output_operators_base.mod\n",
      "-- Installing: /Users/amrapallig/repo/GOTM_LT/test_my_github/A2020_ADHOC/gotm/exe/include/output_operators_time_average.mod\n",
      "-- Installing: /Users/amrapallig/repo/GOTM_LT/test_my_github/A2020_ADHOC/gotm/exe/include/text_output.mod\n",
      "-- Installing: /Users/amrapallig/repo/GOTM_LT/test_my_github/A2020_ADHOC/gotm/exe/include/field_manager.mod\n",
      "-- Installing: /Users/amrapallig/repo/GOTM_LT/test_my_github/A2020_ADHOC/gotm/exe/include/memory_output.mod\n",
      "-- Installing: /Users/amrapallig/repo/GOTM_LT/test_my_github/A2020_ADHOC/gotm/exe/include/output_operators_library.mod\n",
      "-- Installing: /Users/amrapallig/repo/GOTM_LT/test_my_github/A2020_ADHOC/gotm/exe/include/output_manager.mod\n",
      "-- Installing: /Users/amrapallig/repo/GOTM_LT/test_my_github/A2020_ADHOC/gotm/exe/lib/libairsea.a\n",
      "-- Installing: /Users/amrapallig/repo/GOTM_LT/test_my_github/A2020_ADHOC/gotm/exe/lib/libutil.a\n",
      "-- Installing: /Users/amrapallig/repo/GOTM_LT/test_my_github/A2020_ADHOC/gotm/exe/include/time.mod\n",
      "-- Installing: /Users/amrapallig/repo/GOTM_LT/test_my_github/A2020_ADHOC/gotm/exe/include/util.mod\n",
      "-- Installing: /Users/amrapallig/repo/GOTM_LT/test_my_github/A2020_ADHOC/gotm/exe/include/gotm_version.mod\n",
      "-- Installing: /Users/amrapallig/repo/GOTM_LT/test_my_github/A2020_ADHOC/gotm/exe/include/gotm_compilation.mod\n",
      "-- Installing: /Users/amrapallig/repo/GOTM_LT/test_my_github/A2020_ADHOC/gotm/exe/include/mtridiagonal.mod\n",
      "-- Installing: /Users/amrapallig/repo/GOTM_LT/test_my_github/A2020_ADHOC/gotm/exe/lib/libturbulence.a\n",
      "-- Installing: /Users/amrapallig/repo/GOTM_LT/test_my_github/A2020_ADHOC/gotm/exe/include/turbulence.mod\n",
      "-- Installing: /Users/amrapallig/repo/GOTM_LT/test_my_github/A2020_ADHOC/gotm/exe/lib/libinput_manager.a\n",
      "-- Installing: /Users/amrapallig/repo/GOTM_LT/test_my_github/A2020_ADHOC/gotm/exe/lib/libconfig.a\n",
      "\n",
      "\n",
      "\u001b[92mDone!\u001b[0m\n",
      "CPU times: user 8.96 ms, sys: 28.5 ms, total: 37.4 ms\n",
      "Wall time: 34.2 s\n"
     ]
    },
    {
     "name": "stderr",
     "output_type": "stream",
     "text": [
      "/Users/amrapallig/opt/miniconda3/envs/gotm/bin/x86_64-apple-darwin13.4.0-ranlib: file: /Users/amrapallig/repo/GOTM_LT/test_my_github/A2020_ADHOC/gotm/exe/lib/libyaml.a(yaml_version.F90.o) has no symbols\n",
      "/Users/amrapallig/opt/miniconda3/envs/gotm/bin/x86_64-apple-darwin13.4.0-ranlib: file: /Users/amrapallig/repo/GOTM_LT/test_my_github/A2020_ADHOC/gotm/exe/lib/liboutput_manager.a(flexout_version.F90.o) has no symbols\n",
      "/Users/amrapallig/opt/miniconda3/envs/gotm/bin/x86_64-apple-darwin13.4.0-ranlib: file: /Users/amrapallig/repo/GOTM_LT/test_my_github/A2020_ADHOC/gotm/exe/lib/libutil.a(util.F90.o) has no symbols\n",
      "/Users/amrapallig/opt/miniconda3/envs/gotm/bin/x86_64-apple-darwin13.4.0-ranlib: file: /Users/amrapallig/repo/GOTM_LT/test_my_github/A2020_ADHOC/gotm/exe/lib/libutil.a(gotm_version.F90.o) has no symbols\n",
      "/Users/amrapallig/opt/miniconda3/envs/gotm/bin/x86_64-apple-darwin13.4.0-ranlib: file: /Users/amrapallig/repo/GOTM_LT/test_my_github/A2020_ADHOC/gotm/exe/lib/libutil.a(compilation.F90.o) has no symbols\n"
     ]
    }
   ],
   "source": [
    "%%time\n",
    "m.build()"
   ]
  },
  {
   "cell_type": "markdown",
   "metadata": {},
   "source": [
    "## Configuration\n",
    "Initialize the GOTM configuration"
   ]
  },
  {
   "cell_type": "code",
   "execution_count": 5,
   "metadata": {},
   "outputs": [
    {
     "name": "stdout",
     "output_type": "stream",
     "text": [
      "Generating default configuration at '/Users/amrapallig/repo/GOTM_LT/test_my_github/A2020_ADHOC/gotm/run/ADHOC/gotm.yaml'...\n",
      "\u001b[92mDone!\u001b[0m\n"
     ]
    },
    {
     "name": "stderr",
     "output_type": "stream",
     "text": [
      " ------------------------------------------------------------------------\n",
      " GOTM started on 2023/12/21 at 10:59:02\n",
      " ------------------------------------------------------------------------\n",
      "    initialize_gotm\n",
      " ------------------------------------------------------------------------\n",
      "        Configuration file gotm.yaml not found. Using default settings.\n",
      "        configuring modules ....\n",
      "    init_airsea_yaml\n",
      "        done\n",
      "    init_observations_yaml\n",
      "    init_stokes_drift_yaml\n",
      "        done\n",
      "    init_turbulence_yaml\n",
      "        done.\n",
      "    init_cvmix_yaml\n",
      "        done.\n",
      "    init_meanflow_yaml\n",
      "        done\n",
      "    init_eqstate_yaml\n",
      "        done.\n",
      " Your configuration has been written to /Users/amrapallig/repo/GOTM_LT/test_my_github/A2020_ADHOC/gotm/run/ADHOC/gotm.yaml.\n",
      "STOP 0\n"
     ]
    }
   ],
   "source": [
    "cfg = m.init_config()"
   ]
  },
  {
   "cell_type": "markdown",
   "metadata": {},
   "source": [
    "Update the configuration"
   ]
  },
  {
   "cell_type": "code",
   "execution_count": 6,
   "metadata": {},
   "outputs": [],
   "source": [
    "# setup\n",
    "title = 'ADHOC'\n",
    "depth = 200.0\n",
    "rho0 = 1000\n",
    "cp = 4218\n",
    "alphaT = 2e-4\n",
    "betaS = 8e-4\n",
    "\n",
    "cfg['title'] = title\n",
    "cfg['location']['name'] = 'idealized'\n",
    "cfg['location']['latitude'] = 0.0\n",
    "cfg['location']['longitude'] = 0.0\n",
    "cfg['location']['depth'] = depth\n",
    "cfg['time']['start'] = '2000-01-01 00:00:00'\n",
    "cfg['time']['stop']  = '2000-01-05 00:00:00'\n",
    "cfg['time']['dt']    = 60.0\n",
    "\n",
    "# output\n",
    "cfg['output'] = {}\n",
    "cfg['output']['gotm_out'] = {}\n",
    "cfg['output']['gotm_out']['use'] = True\n",
    "cfg['output']['gotm_out']['title'] = title\n",
    "cfg['output']['gotm_out']['time_unit'] = 'dt'\n",
    "cfg['output']['gotm_out']['time_step'] = 60\n",
    "cfg['output']['gotm_out']['variables'] = [{}]\n",
    "cfg['output']['gotm_out']['variables'][0]['source'] = '*'\n",
    "\n",
    "# forcing\n",
    "datadir = m.environ['gotmdir_data']\n",
    "cfg['temperature']['method'] = 'file'\n",
    "cfg['salinity']['method'] = 'file'\n",
    "cfg['surface']['fluxes']['heat']['method'] = 'constant'\n",
    "cfg['surface']['fluxes']['tx']['method'] = 'constant'\n",
    "cfg['surface']['fluxes']['ty']['method'] = 'constant'\n",
    "cfg['surface']['swr']['method'] = 'constant'\n",
    "cfg['surface']['precip']['method'] = 'constant'\n",
    "cfg['surface']['fluxes']['tx']['constant_value'] = 0.0\n",
    "cfg['surface']['fluxes']['ty']['constant_value'] = 0.0\n",
    "cfg['surface']['swr']['constant_value'] = 0.0\n",
    "\n",
    "# EOS -- use linear\n",
    "cfg['eq_state']['form'] = 'linear_custom'\n",
    "cfg['eq_state']['linear']['T0'] = 20.0\n",
    "cfg['eq_state']['linear']['S0'] = 35.0\n",
    "cfg['eq_state']['linear']['dtr0'] = -alphaT*rho0\n",
    "cfg['eq_state']['linear']['dsr0'] = betaS*rho0\n",
    "cfg['physical_constants']['rho_0'] = rho0\n"
   ]
  },
  {
   "cell_type": "markdown",
   "metadata": {},
   "source": [
    "## Create a list of configurations"
   ]
  },
  {
   "cell_type": "code",
   "execution_count": 7,
   "metadata": {},
   "outputs": [],
   "source": [
    "# Forcing                                                                                                                                                               \n",
    "\n",
    "cases = {\n",
    "    'C1':    {'Qh':  -50.0, 'Qs':  0.0,    'TStag': 'C'},\n",
    "    'C2':    {'Qh': -100.0, 'Qs':  0.0,    'TStag': 'C'},\n",
    "    'C4':    {'Qh': -200.0, 'Qs':  0.0,    'TStag': 'C'},\n",
    "    'C16':   {'Qh': -800.0, 'Qs':  0.0,    'TStag': 'C'},\n",
    "    'E1':    {'Qh':    0.0, 'Qs': -8.9e-8, 'TStag': 'E'},\n",
    "    'E4':    {'Qh':    0.0, 'Qs': -3.5e-7, 'TStag': 'E'},\n",
    "    'S1':    {'Qh': -100.0, 'Qs':  0.0,    'TStag': 'S1'},\n",
    "    'S10':   {'Qh': -100.0, 'Qs':  0.0,    'TStag': 'S10'},\n",
    "    'S20':   {'Qh': -100.0, 'Qs':  0.0,    'TStag': 'S20'},\n",
    "    'T1S0':  {'Qh':  -50.0, 'Qs':  0.0,    'TStag': 'TS'},\n",
    "    'T1S1':  {'Qh':  -50.0, 'Qs': -8.9e-8, 'TStag': 'TS'},\n",
    "    'T1S3':  {'Qh':  -50.0, 'Qs': -2.6e-7, 'TStag': 'TS'},\n",
    "    'T1S15': {'Qh':  -50.0, 'Qs': -1.3e-6, 'TStag': 'TS'},\n",
    "}\n",
    "\n",
    "# Resolution\n",
    "dz = {'1m': 1.0, '10m': 10.0}\n",
    "\n",
    "# Turbulence methods\n",
    "turbmethods = [\n",
    "    'GLS-C01A',\n",
    "    'KPP-CVMix',\n",
    "    ]"
   ]
  },
  {
   "cell_type": "code",
   "execution_count": 8,
   "metadata": {},
   "outputs": [
    {
     "name": "stdout",
     "output_type": "stream",
     "text": [
      "C1\n",
      "C2\n",
      "C4\n",
      "C16\n",
      "E1\n",
      "E4\n",
      "S1\n",
      "S10\n",
      "S20\n",
      "T1S0\n",
      "T1S1\n",
      "T1S3\n",
      "T1S15\n"
     ]
    }
   ],
   "source": [
    "for casename in cases:\n",
    "    print(casename)"
   ]
  },
  {
   "cell_type": "code",
   "execution_count": 9,
   "metadata": {},
   "outputs": [
    {
     "name": "stdout",
     "output_type": "stream",
     "text": [
      "dz = 1m\n",
      " - C1\n",
      " - C2\n",
      " - C4\n",
      " - C16\n",
      " - E1\n",
      " - E4\n",
      " - S1\n",
      " - S10\n",
      " - S20\n",
      " - T1S0\n",
      " - T1S1\n",
      " - T1S3\n",
      " - T1S15\n",
      "dz = 10m\n",
      " - C1\n",
      " - C2\n",
      " - C4\n",
      " - C16\n",
      " - E1\n",
      " - E4\n",
      " - S1\n",
      " - S10\n",
      " - S20\n",
      " - T1S0\n",
      " - T1S1\n",
      " - T1S3\n",
      " - T1S15\n"
     ]
    }
   ],
   "source": [
    "cfgs = []\n",
    "labels = []\n",
    "\n",
    "for res in dz:\n",
    "    print('dz = {:s}'.format(res))\n",
    "    nlev = int(depth/dz[res])\n",
    "    cfg['grid']['nlev']  = nlev\n",
    "    cfg['output']['gotm_out']['k1_stop'] = nlev+1\n",
    "    cfg['output']['gotm_out']['k_stop'] = nlev\n",
    "    for casename in cases:\n",
    "        print(' - {:s}'.format(casename))\n",
    "        # set surface fluxes\n",
    "        cfg['surface']['fluxes']['heat']['constant_value'] = cases[casename]['Qh']\n",
    "        cfg['surface']['precip']['constant_value'] = cases[casename]['Qs']\n",
    "        cfg['temperature']['file'] = os.path.join(datadir, 'tprof_file_{:s}.dat'.format(cases[casename]['TStag']))\n",
    "        cfg['salinity']['file'] = os.path.join(datadir, 'sprof_file_{:s}.dat'.format(cases[casename]['TStag']))\n",
    "        for turbmethod in turbmethods: \n",
    "            run_label = '{:s}_{:s}'.format(turbmethod, res)\n",
    "            labels.append(os.path.join(casename, run_label))\n",
    "            run_dir = os.path.join(m.environ['gotmdir_run'], m.name, casename, run_label)\n",
    "            os.makedirs(run_dir, exist_ok=True)\n",
    "            if turbmethod == 'GLS-C01A':\n",
    "                cfg['turbulence']['turb_method'] = 'second_order'\n",
    "                cfg['turbulence']['tke_method'] = 'tke'\n",
    "                cfg['turbulence']['len_scale_method'] = 'gls'\n",
    "                cfg['turbulence']['scnd']['method'] =  'weak_eq_kb_eq'\n",
    "                cfg['turbulence']['scnd']['scnd_coeff'] =  'canuto-a'\n",
    "                cfg['turbulence']['turb_param']['length_lim'] = 'false'\n",
    "                cfg['turbulence']['turb_param']['compute_c3'] = 'true'\n",
    "                cfg['turbulence']['turb_param']['Ri_st'] = 0.25\n",
    "                cfg['turbulence']['generic']['gen_m'] = 1.5 \n",
    "                cfg['turbulence']['generic']['gen_n'] = -1.0\n",
    "                cfg['turbulence']['generic']['gen_p'] = 3.0 \n",
    "                cfg['turbulence']['generic']['cpsi1'] = 1.44\n",
    "                cfg['turbulence']['generic']['cpsi2'] = 1.92\n",
    "                cfg['turbulence']['generic']['cpsi3minus'] = -0.63\n",
    "                cfg['turbulence']['generic']['cpsi3plus'] = 1.0 \n",
    "                cfg['turbulence']['generic']['sig_kpsi'] = 1.0 \n",
    "                cfg['turbulence']['generic']['sig_psi'] = 1.3\n",
    "            elif turbmethod == 'KPP-CVMix':\n",
    "                cfg['turbulence']['turb_method'] = 'cvmix'\n",
    "                cfg['cvmix']['surface_layer']['kpp']['langmuir_method'] = 'none'\n",
    "            else:\n",
    "                raise ValueError('Turbulence closure method \\'{}\\' not defined.'.format(turbmethod))\n",
    "            cfgs.append(copy.deepcopy(cfg))"
   ]
  },
  {
   "cell_type": "markdown",
   "metadata": {},
   "source": [
    "## Run the model"
   ]
  },
  {
   "cell_type": "code",
   "execution_count": 10,
   "metadata": {},
   "outputs": [
    {
     "name": "stdout",
     "output_type": "stream",
     "text": [
      "CPU times: user 60.6 ms, sys: 52.2 ms, total: 113 ms\n",
      "Wall time: 6.05 s\n"
     ]
    }
   ],
   "source": [
    "%%time\n",
    "sims = m.run_batch(configs=cfgs, labels=labels, nproc=4)"
   ]
  },
  {
   "cell_type": "code",
   "execution_count": null,
   "metadata": {},
   "outputs": [],
   "source": []
  }
 ],
 "metadata": {
  "kernelspec": {
   "display_name": "Python 3 (ipykernel)",
   "language": "python",
   "name": "python3"
  },
  "language_info": {
   "codemirror_mode": {
    "name": "ipython",
    "version": 3
   },
   "file_extension": ".py",
   "mimetype": "text/x-python",
   "name": "python",
   "nbconvert_exporter": "python",
   "pygments_lexer": "ipython3",
   "version": "3.9.16"
  }
 },
 "nbformat": 4,
 "nbformat_minor": 4
}
