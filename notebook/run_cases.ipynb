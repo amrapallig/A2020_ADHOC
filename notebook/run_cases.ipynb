{
 "cells": [
  {
   "cell_type": "markdown",
   "metadata": {},
   "source": [
    "# Test cases\n",
    "\n",
    "This notebook set up and run the test cases in Table 2 using KPP and $k$-$\\epsilon$.\n",
    "- GLS-C01A: the generic length scale (GLS; [Umlauf and Burchard, 2003](https://doi.org/10.1357/002224003322005087)) model in the $k$-$\\epsilon$ formulation with the weak-equilibrium stability function by [Canuto et al., 2001](https://doi.org/10.1175/1520-0485(2001)031%3C1413:OTPIOP%3E2.0.CO;2) (C01A).\n",
    "- KPP-CVMix: KPP implementation in CVMix ([Large et al., 1994](https://doi.org/10.1029/94RG01872), [Griffies et al., 2015](https://github.com/CVMix/CVMix-description/raw/master/cvmix.pdf)).\n",
    "\n",
    "![table_forcing](table_forcing.png)"
   ]
  },
  {
   "cell_type": "code",
   "execution_count": null,
   "metadata": {},
   "outputs": [],
   "source": [
    "import sys\n",
    "import copy\n",
    "sys.path.append(\"../gotmtool\")\n",
    "from gotmtool import *"
   ]
  },
  {
   "cell_type": "markdown",
   "metadata": {},
   "source": [
    "## Create a model\n",
    "Create a model with environment file `../gotmtool/.gotm_env.yaml`, which is created by `gotm_env_init.py`. "
   ]
  },
  {
   "cell_type": "code",
   "execution_count": null,
   "metadata": {},
   "outputs": [],
   "source": [
    "m = Model(name='ADHOC', environ='../gotmtool/.gotm_env.yaml')"
   ]
  },
  {
   "cell_type": "markdown",
   "metadata": {},
   "source": [
    "Take a look at what are defined in the environment file."
   ]
  },
  {
   "cell_type": "code",
   "execution_count": null,
   "metadata": {},
   "outputs": [],
   "source": [
    "for key in m.environ:\n",
    "    print('{:>15s}: {}'.format(key, m.environ[key]) )"
   ]
  },
  {
   "cell_type": "markdown",
   "metadata": {},
   "source": [
    "## Build the model"
   ]
  },
  {
   "cell_type": "code",
   "execution_count": null,
   "metadata": {},
   "outputs": [],
   "source": [
    "%%time\n",
    "m.build()"
   ]
  },
  {
   "cell_type": "markdown",
   "metadata": {},
   "source": [
    "## Configuration\n",
    "Initialize the GOTM configuration"
   ]
  },
  {
   "cell_type": "code",
   "execution_count": null,
   "metadata": {},
   "outputs": [],
   "source": [
    "cfg = m.init_config()"
   ]
  },
  {
   "cell_type": "markdown",
   "metadata": {},
   "source": [
    "Update the configuration"
   ]
  },
  {
   "cell_type": "code",
   "execution_count": null,
   "metadata": {},
   "outputs": [],
   "source": [
    "# setup\n",
    "title = 'ADHOC'\n",
    "depth = 200.0\n",
    "rho0 = 1000\n",
    "cp = 4218\n",
    "alphaT = 2e-4\n",
    "betaS = 8e-4\n",
    "\n",
    "cfg['title'] = title\n",
    "cfg['location']['name'] = 'idealized'\n",
    "cfg['location']['latitude'] = 0.0\n",
    "cfg['location']['longitude'] = 0.0\n",
    "cfg['location']['depth'] = depth\n",
    "cfg['time']['start'] = '2000-01-01 00:00:00'\n",
    "cfg['time']['stop']  = '2000-01-05 00:00:00'\n",
    "cfg['time']['dt']    = 60.0\n",
    "\n",
    "# output\n",
    "cfg['output'] = {}\n",
    "cfg['output']['gotm_out'] = {}\n",
    "cfg['output']['gotm_out']['use'] = True\n",
    "cfg['output']['gotm_out']['title'] = title\n",
    "cfg['output']['gotm_out']['time_unit'] = 'dt'\n",
    "cfg['output']['gotm_out']['time_step'] = 60\n",
    "cfg['output']['gotm_out']['variables'] = [{}]\n",
    "cfg['output']['gotm_out']['variables'][0]['source'] = '*'\n",
    "\n",
    "# forcing\n",
    "datadir = m.environ['gotmdir_data']\n",
    "cfg['temperature']['method'] = 'file'\n",
    "cfg['salinity']['method'] = 'file'\n",
    "cfg['surface']['fluxes']['heat']['method'] = 'constant'\n",
    "cfg['surface']['fluxes']['tx']['method'] = 'constant'\n",
    "cfg['surface']['fluxes']['ty']['method'] = 'constant'\n",
    "cfg['surface']['swr']['method'] = 'constant'\n",
    "cfg['surface']['precip']['method'] = 'constant'\n",
    "cfg['surface']['fluxes']['tx']['constant_value'] = 0.0\n",
    "cfg['surface']['fluxes']['ty']['constant_value'] = 0.0\n",
    "cfg['surface']['swr']['constant_value'] = 0.0\n",
    "\n",
    "# EOS -- use linear\n",
    "cfg['eq_state']['form'] = 'linear_custom'\n",
    "cfg['eq_state']['linear']['T0'] = 20.0\n",
    "cfg['eq_state']['linear']['S0'] = 35.0\n",
    "cfg['eq_state']['linear']['dtr0'] = -alphaT*rho0\n",
    "cfg['eq_state']['linear']['dsr0'] = betaS*rho0\n",
    "cfg['physical_constants']['rho_0'] = rho0\n"
   ]
  },
  {
   "cell_type": "markdown",
   "metadata": {},
   "source": [
    "## Create a list of configurations"
   ]
  },
  {
   "cell_type": "code",
   "execution_count": null,
   "metadata": {},
   "outputs": [],
   "source": [
    "# Forcing                                                                                                                                                               \n",
    "\n",
    "cases = {\n",
    "    'C1':    {'Qh':  -50.0, 'Qs':  0.0,    'TStag': 'C'},\n",
    "    'C2':    {'Qh': -100.0, 'Qs':  0.0,    'TStag': 'C'},\n",
    "    'C4':    {'Qh': -200.0, 'Qs':  0.0,    'TStag': 'C'},\n",
    "    'C16':   {'Qh': -800.0, 'Qs':  0.0,    'TStag': 'C'},\n",
    "    'E1':    {'Qh':    0.0, 'Qs': -8.9e-8, 'TStag': 'E'},\n",
    "    'E4':    {'Qh':    0.0, 'Qs': -3.5e-7, 'TStag': 'E'},\n",
    "    'S1':    {'Qh': -100.0, 'Qs':  0.0,    'TStag': 'S1'},\n",
    "    'S10':   {'Qh': -100.0, 'Qs':  0.0,    'TStag': 'S10'},\n",
    "    'S20':   {'Qh': -100.0, 'Qs':  0.0,    'TStag': 'S20'},\n",
    "    'T1S0':  {'Qh':  -50.0, 'Qs':  0.0,    'TStag': 'TS'},\n",
    "    'T1S1':  {'Qh':  -50.0, 'Qs': -8.9e-8, 'TStag': 'TS'},\n",
    "    'T1S3':  {'Qh':  -50.0, 'Qs': -2.6e-7, 'TStag': 'TS'},\n",
    "    'T1S15': {'Qh':  -50.0, 'Qs': -1.3e-6, 'TStag': 'TS'},\n",
    "}\n",
    "\n",
    "# Resolution\n",
    "dz = {'1m': 1.0, '10m': 10.0}\n",
    "\n",
    "# Turbulence methods\n",
    "turbmethods = [\n",
    "    'GLS-C01A',\n",
    "    'KPP-CVMix',\n",
    "    ]"
   ]
  },
  {
   "cell_type": "code",
   "execution_count": null,
   "metadata": {},
   "outputs": [],
   "source": [
    "for casename in cases:\n",
    "    print(casename)"
   ]
  },
  {
   "cell_type": "code",
   "execution_count": null,
   "metadata": {},
   "outputs": [],
   "source": [
    "cfgs = []\n",
    "labels = []\n",
    "\n",
    "for res in dz:\n",
    "    print('dz = {:s}'.format(res))\n",
    "    nlev = int(depth/dz[res])\n",
    "    cfg['grid']['nlev']  = nlev\n",
    "    cfg['output']['gotm_out']['k1_stop'] = nlev+1\n",
    "    cfg['output']['gotm_out']['k_stop'] = nlev\n",
    "    for casename in cases:\n",
    "        print(' - {:s}'.format(casename))\n",
    "        # set surface fluxes\n",
    "        cfg['surface']['fluxes']['heat']['constant_value'] = cases[casename]['Qh']\n",
    "        cfg['surface']['precip']['constant_value'] = cases[casename]['Qs']\n",
    "        cfg['temperature']['file'] = os.path.join(datadir, 'tprof_file_{:s}.dat'.format(cases[casename]['TStag']))\n",
    "        cfg['salinity']['file'] = os.path.join(datadir, 'sprof_file_{:s}.dat'.format(cases[casename]['TStag']))\n",
    "        for turbmethod in turbmethods: \n",
    "            run_label = '{:s}_{:s}'.format(turbmethod, res)\n",
    "            labels.append(os.path.join(casename, run_label))\n",
    "            run_dir = os.path.join(m.environ['gotmdir_run'], m.name, casename, run_label)\n",
    "            os.makedirs(run_dir, exist_ok=True)\n",
    "            if turbmethod == 'GLS-C01A':\n",
    "                cfg['turbulence']['turb_method'] = 'second_order'\n",
    "                cfg['turbulence']['tke_method'] = 'tke'\n",
    "                cfg['turbulence']['len_scale_method'] = 'gls'\n",
    "                cfg['turbulence']['scnd']['method'] =  'weak_eq_kb_eq'\n",
    "                cfg['turbulence']['scnd']['scnd_coeff'] =  'canuto-a'\n",
    "                cfg['turbulence']['turb_param']['length_lim'] = 'false'\n",
    "                cfg['turbulence']['turb_param']['compute_c3'] = 'true'\n",
    "                cfg['turbulence']['turb_param']['Ri_st'] = 0.25\n",
    "                cfg['turbulence']['generic']['gen_m'] = 1.5 \n",
    "                cfg['turbulence']['generic']['gen_n'] = -1.0\n",
    "                cfg['turbulence']['generic']['gen_p'] = 3.0 \n",
    "                cfg['turbulence']['generic']['cpsi1'] = 1.44\n",
    "                cfg['turbulence']['generic']['cpsi2'] = 1.92\n",
    "                cfg['turbulence']['generic']['cpsi3minus'] = -0.63\n",
    "                cfg['turbulence']['generic']['cpsi3plus'] = 1.0 \n",
    "                cfg['turbulence']['generic']['sig_kpsi'] = 1.0 \n",
    "                cfg['turbulence']['generic']['sig_psi'] = 1.3\n",
    "            elif turbmethod == 'KPP-CVMix':\n",
    "                cfg['turbulence']['turb_method'] = 'cvmix'\n",
    "                cfg['cvmix']['surface_layer']['kpp']['langmuir_method'] = 'none'\n",
    "            else:\n",
    "                raise ValueError('Turbulence closure method \\'{}\\' not defined.'.format(turbmethod))\n",
    "            cfgs.append(copy.deepcopy(cfg))"
   ]
  },
  {
   "cell_type": "markdown",
   "metadata": {},
   "source": [
    "## Run the model"
   ]
  },
  {
   "cell_type": "code",
   "execution_count": null,
   "metadata": {},
   "outputs": [],
   "source": [
    "%%time\n",
    "sims = m.run_batch(configs=cfgs, labels=labels, nproc=4)"
   ]
  }
 ],
 "metadata": {
  "kernelspec": {
   "display_name": "Python 3",
   "language": "python",
   "name": "python3"
  },
  "language_info": {
   "codemirror_mode": {
    "name": "ipython",
    "version": 3
   },
   "file_extension": ".py",
   "mimetype": "text/x-python",
   "name": "python",
   "nbconvert_exporter": "python",
   "pygments_lexer": "ipython3",
   "version": "3.9.15"
  }
 },
 "nbformat": 4,
 "nbformat_minor": 4
}
